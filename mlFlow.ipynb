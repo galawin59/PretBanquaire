{
 "cells": [
  {
   "cell_type": "code",
   "execution_count": 139,
   "metadata": {},
   "outputs": [],
   "source": [
    "import pandas as pd"
   ]
  },
  {
   "cell_type": "code",
   "execution_count": 140,
   "metadata": {},
   "outputs": [],
   "source": [
    "data = pd.read_csv(\"SBAnational.csv\")"
   ]
  },
  {
   "cell_type": "code",
   "execution_count": 141,
   "metadata": {},
   "outputs": [],
   "source": [
    "df = data.sample(n = 10000,random_state=42)"
   ]
  },
  {
   "cell_type": "code",
   "execution_count": 142,
   "metadata": {},
   "outputs": [],
   "source": [
    "def cleaning(df):\n",
    "\n",
    "\n",
    "    # Columns Selection\n",
    "    df = df.drop(columns=['Name', 'LoanNr_ChkDgt', 'Bank', \n",
    "                     'BankState', 'DisbursementDate', 'ApprovalDate', \n",
    "                    'ApprovalFY', 'FranchiseCode', 'Zip', 'City', 'ChgOffDate', 'SBA_Appv', 'BalanceGross', 'DisbursementGross', 'ChgOffPrinGr'])\n",
    "    # Deal with NA\n",
    "    df = df.dropna(subset=['MIS_Status']) \n",
    "\n",
    "    # Data formating for training data (outside pipe)\n",
    "    df['GrAppv'] = df['GrAppv'].str.replace('$', '').str.replace(',','').str.strip().astype('float64').astype('int64')    \n",
    "    df['RevLineCr'] = df['RevLineCr'].mask(df.RevLineCr.isin(['0','T','1','R','`','2','C','3',',','7','A','5','.','4','-','Q']))   \n",
    "    df['LowDoc'] = df['LowDoc'].mask(df.LowDoc.isin(['0','C','S','A','R','1'])) \n",
    "    df['NewExist'] = df['NewExist'].replace({2:False, 1:True})   \n",
    "    df['NAICS'] = df['NAICS'].astype('str').apply(lambda x : x[:2])    \n",
    "    return df\n",
    "\n",
    "df = cleaning(df)"
   ]
  },
  {
   "cell_type": "code",
   "execution_count": 143,
   "metadata": {},
   "outputs": [],
   "source": [
    "\n",
    "from sklearn.model_selection import train_test_split\n",
    "y = df['MIS_Status'].replace({'P I F':0, 'CHGOFF':1}) \n",
    "X = df.drop(['MIS_Status'], axis=1)\n",
    "\n",
    "\n",
    "X_train, X_test, y_train, y_test = train_test_split(X, y, train_size=0.8, shuffle=False,test_size=0.2, random_state=42)\n",
    "\n"
   ]
  },
  {
   "cell_type": "code",
   "execution_count": 144,
   "metadata": {},
   "outputs": [
    {
     "data": {
      "text/plain": [
       "6"
      ]
     },
     "execution_count": 144,
     "metadata": {},
     "output_type": "execute_result"
    }
   ],
   "source": [
    "numeric_features = list(X.select_dtypes(include=['int', 'float']).columns)\n",
    "len(numeric_features)"
   ]
  },
  {
   "cell_type": "code",
   "execution_count": 145,
   "metadata": {},
   "outputs": [
    {
     "data": {
      "text/plain": [
       "<matplotlib.collections.LineCollection at 0x7fb6b4424340>"
      ]
     },
     "execution_count": 145,
     "metadata": {},
     "output_type": "execute_result"
    },
    {
     "data": {
      "image/png": "[encoded data removed]",
      "text/plain": [
       "<Figure size 640x480 with 1 Axes>"
      ]
     },
     "metadata": {},
     "output_type": "display_data"
    }
   ],
   "source": [
    "from sklearn.preprocessing import  StandardScaler\n",
    "import numpy as np\n",
    "std = StandardScaler()\n",
    "X_train_standard = std.fit_transform(X_train[numeric_features])\n",
    "\n",
    "from sklearn.decomposition import PCA\n",
    "# Choisir le nb de composants\n",
    "n_dims = X_train_standard.shape[1]\n",
    "model = PCA(n_components=n_dims)\n",
    "model.fit(X_train_standard)\n",
    "\n",
    "variances = model.explained_variance_ratio_\n",
    "\n",
    "meilleur_dims = np.argmax(np.cumsum(variances) > 0.90)\n",
    "\n",
    "import matplotlib.pyplot as plt\n",
    "plt.bar(range(n_dims), np.cumsum(variances))\n",
    "plt.hlines(0.90, 0, meilleur_dims, colors='r')\n",
    "plt.vlines(meilleur_dims, 0, 0.90, colors='r')"
   ]
  },
  {
   "cell_type": "code",
   "execution_count": 146,
   "metadata": {},
   "outputs": [],
   "source": [
    "from sklearn.pipeline import Pipeline\n",
    "from sklearn.preprocessing import StandardScaler\n",
    "from sklearn.decomposition import PCA\n",
    "\n",
    "numeric_transformer = Pipeline([\n",
    "        ('standard', StandardScaler()),  # Centrer réduire\n",
    "        ('pca', PCA(n_components=4)) # après standardisation\n",
    "        ])\n",
    "\n",
    "\n",
    "# ############### IV.c Categorial features ##############\n",
    "categorial_features = ['RevLineCr', 'LowDoc', 'NewExist', 'NAICS', 'State']\n",
    "\n",
    "from sklearn.preprocessing import OneHotEncoder\n",
    "categorical_transformer = OneHotEncoder(sparse=True)\n",
    "\n",
    "\n",
    "\n",
    "# ############### IV.d Combinaison ##############\n",
    "from sklearn.compose import ColumnTransformer\n",
    "\n",
    "preprocessor = ColumnTransformer(\n",
    "    transformers=[\n",
    "        ('num', numeric_transformer, numeric_features),\n",
    "        ('cat', categorical_transformer, categorial_features)\n",
    "    ],\n",
    "    remainder=\"passthrough\" \n",
    ")\n",
    "\n",
    "\n",
    "############### IV.d Estimator ##############\n",
    "from xgboost import XGBClassifier\n",
    "xg = XGBClassifier(max_depth = 5 , learning_rate = 0.125,scale_pos_weight = 1.75,random_state = 42)\n",
    "\n",
    "\n",
    "# ############### IV.d Final_pipe ##############\n",
    "\n",
    "from sklearn.pipeline import Pipeline\n",
    "pipe = Pipeline([\n",
    "     ('preprocessor', preprocessor),\n",
    "     ('clf', xg)\n",
    "])"
   ]
  },
  {
   "cell_type": "code",
   "execution_count": 147,
   "metadata": {},
   "outputs": [],
   "source": [
    "from run_experiment import run_experiment"
   ]
  },
  {
   "cell_type": "code",
   "execution_count": 148,
   "metadata": {},
   "outputs": [],
   "source": [
    "from sklearn.model_selection import KFold\n",
    "\n",
    "# define evaluation\n",
    "cv = KFold(n_splits=5, random_state=42,shuffle = True)\n",
    "\n",
    "# ############### V.c Hyparameters space setting ##############\n",
    "\n",
    "# import numpy as np\n",
    "\n",
    "positives = sum(y) / len(y)\n",
    "negatives = 1 - positives\n",
    "scale_ratio = negatives / positives\n",
    "\n",
    "space = {'clf__max_depth' : [5],\n",
    "              'clf__learning_rate' : [0.125],\n",
    "              \n",
    "              \n",
    "              'clf__scale_pos_weight' : [1.75]\n",
    "              }\n",
    "\n",
    "# ############### V.d RandomSearch and GridSearc ##############\n",
    "\n",
    "\n",
    "from sklearn.model_selection import GridSearchCV\n",
    "model = GridSearchCV(\n",
    "    pipe,\n",
    "    space,\n",
    "    scoring='f1',\n",
    "    verbose=2,\n",
    "    n_jobs=-1,\n",
    "    cv=cv\n",
    ")\n"
   ]
  },
  {
   "cell_type": "code",
   "execution_count": 149,
   "metadata": {},
   "outputs": [],
   "source": [
    "\n",
    "\n",
    "import mlflow\n",
    "\n",
    "experiment_id = mlflow.get_experiment_by_name(\"experiment\").experiment_id\n",
    "\n"
   ]
  },
  {
   "cell_type": "code",
   "execution_count": 150,
   "metadata": {},
   "outputs": [
    {
     "name": "stdout",
     "output_type": "stream",
     "text": [
      "Fitting 5 folds for each of 1 candidates, totalling 5 fits\n",
      "[CV] END clf__learning_rate=0.125, clf__max_depth=5, clf__scale_pos_weight=1.75; total time=   1.3s\n",
      "[CV] END clf__learning_rate=0.125, clf__max_depth=5, clf__scale_pos_weight=1.75; total time=   1.2s\n",
      "[CV] END clf__learning_rate=0.125, clf__max_depth=5, clf__scale_pos_weight=1.75; total time=   1.4s\n",
      "[CV] END clf__learning_rate=0.125, clf__max_depth=5, clf__scale_pos_weight=1.75; total time=   1.3s\n",
      "[CV] END clf__learning_rate=0.125, clf__max_depth=5, clf__scale_pos_weight=1.75; total time=   1.5s\n",
      "Best Hyperparameters: {'clf__learning_rate': 0.125, 'clf__max_depth': 5, 'clf__scale_pos_weight': 1.75}\n",
      "######## accuracy_score : \n",
      "TRAIN : 0.9080100125156445\n",
      "TEST : 0.8653653653653653\n",
      "######## f1_score : \n",
      "TRAIN : 0.7219069239500567\n",
      "TEST : 0.6162624821683309\n",
      "######## precision_score : \n",
      "TRAIN : 0.7383900928792569\n",
      "TEST : 0.6545454545454545\n",
      "######## recall_score : \n",
      "TRAIN : 0.7061435973353072\n",
      "TEST : 0.5822102425876011\n",
      "######## roc_auc_score : \n",
      "TRAIN : 0.827616157757878\n",
      "TEST : 0.7560713167455522\n"
     ]
    }
   ],
   "source": [
    "with mlflow.start_run(experiment_id=experiment_id) as run:\n",
    "    model_fit = run_experiment(X_train,y_train,X_test,y_test,model, \"classification\")\n",
    "\n",
    "    for param,value in model_fit[\"clf\"].get_params().items():\n",
    "        mlflow.log_param(param, value)\n",
    "    mlflow.log_param(\"PCA\", True) "
   ]
  },
  {
   "cell_type": "code",
   "execution_count": 151,
   "metadata": {},
   "outputs": [],
   "source": [
    "import warnings\n",
    "warnings.filterwarnings('ignore')\n",
    "############### V.f LearningCurve ##############\n",
    "\n",
    "best_model_params = model_fit[\"clf\"].get_params()\n",
    "xg_best = XGBClassifier(**best_model_params)\n",
    "best_pipe = Pipeline([\n",
    "     ('preprocessor', preprocessor),\n",
    "     ('clf', xg_best)\n",
    "])\n",
    "\n",
    "from sklearn.model_selection import learning_curve\n",
    "import matplotlib.pyplot as plt\n",
    "import numpy as np\n",
    "\n",
    "N, train_score, val_score = learning_curve(best_pipe, X_train, y_train,cv=cv)\n"
   ]
  },
  {
   "cell_type": "code",
   "execution_count": 152,
   "metadata": {},
   "outputs": [
    {
     "name": "stdout",
     "output_type": "stream",
     "text": [
      "[ 639 2077 3515 4953 6392]\n"
     ]
    },
    {
     "data": {
      "text/plain": [
       "<matplotlib.legend.Legend at 0x7fb6cc675f10>"
      ]
     },
     "execution_count": 152,
     "metadata": {},
     "output_type": "execute_result"
    },
    {
     "data": {
      "image/png": "[encoded data removed]",
      "text/plain": [
       "<Figure size 640x480 with 1 Axes>"
      ]
     },
     "metadata": {},
     "output_type": "display_data"
    }
   ],
   "source": [
    "\n",
    "\n",
    "print(N)\n",
    "plt.plot(N, train_score.mean(axis=1), label='train')\n",
    "plt.plot(N, pd.DataFrame(val_score).mean(axis=1), label='validation')\n",
    "plt.xlabel('train_sizes')\n",
    "plt.legend()\n",
    "\n"
   ]
  }
 ],
 "metadata": {
  "kernelspec": {
   "display_name": "dataEnv",
   "language": "python",
   "name": "python3"
  },
  "language_info": {
   "codemirror_mode": {
    "name": "ipython",
    "version": 3
   },
   "file_extension": ".py",
   "mimetype": "text/x-python",
   "name": "python",
   "nbconvert_exporter": "python",
   "pygments_lexer": "ipython3",
   "version": "3.9.15"
  },
  "orig_nbformat": 4,
  "vscode": {
   "interpreter": {
    "hash": "f552feafe80aeb192c172ea3172753bba3f331bcb0b31c838cf2cbfc93f47857"
   }
  }
 },
 "nbformat": 4,
 "nbformat_minor": 2
}
